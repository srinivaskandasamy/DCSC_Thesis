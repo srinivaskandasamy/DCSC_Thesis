{
 "cells": [
  {
   "cell_type": "code",
   "execution_count": 100,
   "metadata": {
    "collapsed": false
   },
   "outputs": [],
   "source": [
    "from __future__ import division\n",
    "import matplotlib.pyplot as plt\n",
    "import matplotlib.cm as cm\n",
    "import numpy as np\n",
    "\n",
    "height, width = 33, 33 #in pixels\n",
    "spines = 'left', 'right', 'top', 'bottom'\n",
    "\n",
    "labels = ['label' + spine for spine in spines]\n",
    "\n",
    "tick_params = {spine : False for spine in spines}\n",
    "tick_params.update({label : False for label in labels})\n",
    "\n",
    "# img = np.random.randint(0, 4097, (height, width))\n",
    "\n",
    "img = np.identity(height)\n",
    "\n",
    "img *= 255. / 4096\n",
    "img = np.ones([height,width]) - img\n",
    "\n",
    "a= np.zeros([height,width])\n",
    "# i,j = np.indices(a.shape)\n",
    "# a[i==j]=1\n",
    "# a[i==j-1]=1\n",
    "# a[i==j-2]=1\n",
    "# a[i-1==j]=1\n",
    "\n",
    "for i in range(len(a)):\n",
    "    g = np.hstack([i, np.random.randint(width,size=0)])\n",
    "    for j in g:\n",
    "        if j!=i:\n",
    "            a[i,j]=0.5\n",
    "        else:\n",
    "            a[i,j]=0.8\n",
    "    a[i]=[a[i,j]/sum(a[i]) for j in range(len(a))]\n",
    "\n",
    "img = img * a\n",
    "img *= 255. / 4096\n",
    "img = np.ones([height,width]) - img\n",
    "\n",
    "desired_width = 8 #in inches\n",
    "scale = desired_width / float(width)\n",
    "\n",
    "fig, ax = plt.subplots(1, 1, figsize=(desired_width, height*scale))\n",
    "img = ax.imshow(img, cmap=cm.Greys_r, interpolation='none')\n",
    "\n",
    "#remove spines\n",
    "for spine in spines:\n",
    "    ax.spines[spine].set_visible(False)\n",
    "\n",
    "#hide ticks and labels\n",
    "ax.tick_params(**tick_params)\n",
    "\n",
    "#preview\n",
    "plt.show()\n",
    "\n",
    "#save\n",
    "# fig.savefig('test.png', dpi=300)"
   ]
  },
  {
   "cell_type": "code",
   "execution_count": null,
   "metadata": {
    "collapsed": true
   },
   "outputs": [],
   "source": []
  }
 ],
 "metadata": {
  "kernelspec": {
   "display_name": "Python 2",
   "language": "python",
   "name": "python2"
  },
  "language_info": {
   "codemirror_mode": {
    "name": "ipython",
    "version": 2
   },
   "file_extension": ".py",
   "mimetype": "text/x-python",
   "name": "python",
   "nbconvert_exporter": "python",
   "pygments_lexer": "ipython2",
   "version": "2.7.8"
  }
 },
 "nbformat": 4,
 "nbformat_minor": 0
}
